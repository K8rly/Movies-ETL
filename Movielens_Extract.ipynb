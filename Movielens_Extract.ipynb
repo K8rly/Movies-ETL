{
 "cells": [
  {
   "cell_type": "code",
   "execution_count": 1,
   "id": "c2aa67c6",
   "metadata": {},
   "outputs": [],
   "source": [
    "import pandas as pd"
   ]
  },
  {
   "cell_type": "code",
   "execution_count": 2,
   "id": "a984177c",
   "metadata": {},
   "outputs": [],
   "source": [
    "file_dir = ''"
   ]
  },
  {
   "cell_type": "code",
   "execution_count": 3,
   "id": "64dcabcb",
   "metadata": {},
   "outputs": [],
   "source": [
    "kaggle_metadata = pd.read_csv(f'{file_dir}movies_metadata.csv', low_memory=False)\n",
    "ratings = pd.read_csv(f'{file_dir}ratings.csv')"
   ]
  },
  {
   "cell_type": "code",
   "execution_count": 4,
   "id": "87a8bb77",
   "metadata": {},
   "outputs": [
    {
     "data": {
      "text/html": [
       "<div>\n",
       "<style scoped>\n",
       "    .dataframe tbody tr th:only-of-type {\n",
       "        vertical-align: middle;\n",
       "    }\n",
       "\n",
       "    .dataframe tbody tr th {\n",
       "        vertical-align: top;\n",
       "    }\n",
       "\n",
       "    .dataframe thead th {\n",
       "        text-align: right;\n",
       "    }\n",
       "</style>\n",
       "<table border=\"1\" class=\"dataframe\">\n",
       "  <thead>\n",
       "    <tr style=\"text-align: right;\">\n",
       "      <th></th>\n",
       "      <th>userId</th>\n",
       "      <th>movieId</th>\n",
       "      <th>rating</th>\n",
       "      <th>timestamp</th>\n",
       "    </tr>\n",
       "  </thead>\n",
       "  <tbody>\n",
       "    <tr>\n",
       "      <th>12179388</th>\n",
       "      <td>126323</td>\n",
       "      <td>43677</td>\n",
       "      <td>3.5</td>\n",
       "      <td>1254444930</td>\n",
       "    </tr>\n",
       "    <tr>\n",
       "      <th>24096161</th>\n",
       "      <td>250168</td>\n",
       "      <td>1193</td>\n",
       "      <td>1.0</td>\n",
       "      <td>1105410963</td>\n",
       "    </tr>\n",
       "    <tr>\n",
       "      <th>16856323</th>\n",
       "      <td>175211</td>\n",
       "      <td>5445</td>\n",
       "      <td>4.0</td>\n",
       "      <td>1096913930</td>\n",
       "    </tr>\n",
       "    <tr>\n",
       "      <th>2234302</th>\n",
       "      <td>23201</td>\n",
       "      <td>27831</td>\n",
       "      <td>3.0</td>\n",
       "      <td>1475413582</td>\n",
       "    </tr>\n",
       "    <tr>\n",
       "      <th>14782912</th>\n",
       "      <td>153770</td>\n",
       "      <td>1233</td>\n",
       "      <td>1.0</td>\n",
       "      <td>1423519123</td>\n",
       "    </tr>\n",
       "  </tbody>\n",
       "</table>\n",
       "</div>"
      ],
      "text/plain": [
       "          userId  movieId  rating   timestamp\n",
       "12179388  126323    43677     3.5  1254444930\n",
       "24096161  250168     1193     1.0  1105410963\n",
       "16856323  175211     5445     4.0  1096913930\n",
       "2234302    23201    27831     3.0  1475413582\n",
       "14782912  153770     1233     1.0  1423519123"
      ]
     },
     "execution_count": 4,
     "metadata": {},
     "output_type": "execute_result"
    }
   ],
   "source": [
    "ratings.sample(n=5)"
   ]
  },
  {
   "cell_type": "code",
   "execution_count": 5,
   "id": "4ff54146",
   "metadata": {},
   "outputs": [
    {
     "ename": "NameError",
     "evalue": "name 'wiki_movies_raw' is not defined",
     "output_type": "error",
     "traceback": [
      "\u001b[1;31m---------------------------------------------------------------------------\u001b[0m",
      "\u001b[1;31mNameError\u001b[0m                                 Traceback (most recent call last)",
      "Input \u001b[1;32mIn [5]\u001b[0m, in \u001b[0;36m<cell line: 1>\u001b[1;34m()\u001b[0m\n\u001b[1;32m----> 1\u001b[0m wiki_movies_df \u001b[38;5;241m=\u001b[39m pd\u001b[38;5;241m.\u001b[39mDataFrame(\u001b[43mwiki_movies_raw\u001b[49m)\n",
      "\u001b[1;31mNameError\u001b[0m: name 'wiki_movies_raw' is not defined"
     ]
    }
   ],
   "source": [
    "wiki_movies_df = pd.DataFrame(wiki_movies_raw)"
   ]
  },
  {
   "cell_type": "code",
   "execution_count": null,
   "id": "8864ee4d",
   "metadata": {},
   "outputs": [],
   "source": []
  }
 ],
 "metadata": {
  "kernelspec": {
   "display_name": "Python 3 (ipykernel)",
   "language": "python",
   "name": "python3"
  },
  "language_info": {
   "codemirror_mode": {
    "name": "ipython",
    "version": 3
   },
   "file_extension": ".py",
   "mimetype": "text/x-python",
   "name": "python",
   "nbconvert_exporter": "python",
   "pygments_lexer": "ipython3",
   "version": "3.9.7"
  }
 },
 "nbformat": 4,
 "nbformat_minor": 5
}
