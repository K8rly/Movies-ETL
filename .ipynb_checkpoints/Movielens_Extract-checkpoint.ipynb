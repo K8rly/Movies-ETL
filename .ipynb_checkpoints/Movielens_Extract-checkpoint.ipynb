{
 "cells": [
  {
   "cell_type": "code",
   "execution_count": 1,
   "id": "c2aa67c6",
   "metadata": {},
   "outputs": [],
   "source": [
    "import pandas as pd"
   ]
  },
  {
   "cell_type": "code",
   "execution_count": 5,
   "id": "a984177c",
   "metadata": {},
   "outputs": [],
   "source": [
    "file_dir = ''"
   ]
  },
  {
   "cell_type": "code",
   "execution_count": 6,
   "id": "64dcabcb",
   "metadata": {},
   "outputs": [],
   "source": [
    "kaggle_metadata = pd.read_csv(f'{file_dir}movies_metadata.csv', low_memory=False)\n",
    "ratings = pd.read_csv(f'{file_dir}ratings.csv')"
   ]
  },
  {
   "cell_type": "code",
   "execution_count": 10,
   "id": "87a8bb77",
   "metadata": {},
   "outputs": [
    {
     "data": {
      "text/html": [
       "<div>\n",
       "<style scoped>\n",
       "    .dataframe tbody tr th:only-of-type {\n",
       "        vertical-align: middle;\n",
       "    }\n",
       "\n",
       "    .dataframe tbody tr th {\n",
       "        vertical-align: top;\n",
       "    }\n",
       "\n",
       "    .dataframe thead th {\n",
       "        text-align: right;\n",
       "    }\n",
       "</style>\n",
       "<table border=\"1\" class=\"dataframe\">\n",
       "  <thead>\n",
       "    <tr style=\"text-align: right;\">\n",
       "      <th></th>\n",
       "      <th>userId</th>\n",
       "      <th>movieId</th>\n",
       "      <th>rating</th>\n",
       "      <th>timestamp</th>\n",
       "    </tr>\n",
       "  </thead>\n",
       "  <tbody>\n",
       "    <tr>\n",
       "      <th>11848729</th>\n",
       "      <td>122869</td>\n",
       "      <td>7254</td>\n",
       "      <td>3.5</td>\n",
       "      <td>1444364460</td>\n",
       "    </tr>\n",
       "    <tr>\n",
       "      <th>14460757</th>\n",
       "      <td>150272</td>\n",
       "      <td>1608</td>\n",
       "      <td>4.0</td>\n",
       "      <td>1217947912</td>\n",
       "    </tr>\n",
       "    <tr>\n",
       "      <th>12545638</th>\n",
       "      <td>130178</td>\n",
       "      <td>851</td>\n",
       "      <td>2.0</td>\n",
       "      <td>940273062</td>\n",
       "    </tr>\n",
       "    <tr>\n",
       "      <th>6995448</th>\n",
       "      <td>72151</td>\n",
       "      <td>2379</td>\n",
       "      <td>2.0</td>\n",
       "      <td>1496266185</td>\n",
       "    </tr>\n",
       "    <tr>\n",
       "      <th>22760860</th>\n",
       "      <td>236520</td>\n",
       "      <td>103335</td>\n",
       "      <td>4.0</td>\n",
       "      <td>1449821724</td>\n",
       "    </tr>\n",
       "  </tbody>\n",
       "</table>\n",
       "</div>"
      ],
      "text/plain": [
       "          userId  movieId  rating   timestamp\n",
       "11848729  122869     7254     3.5  1444364460\n",
       "14460757  150272     1608     4.0  1217947912\n",
       "12545638  130178      851     2.0   940273062\n",
       "6995448    72151     2379     2.0  1496266185\n",
       "22760860  236520   103335     4.0  1449821724"
      ]
     },
     "execution_count": 10,
     "metadata": {},
     "output_type": "execute_result"
    }
   ],
   "source": [
    "ratings.sample(n=5)"
   ]
  },
  {
   "cell_type": "code",
   "execution_count": null,
   "id": "4ff54146",
   "metadata": {},
   "outputs": [],
   "source": []
  }
 ],
 "metadata": {
  "kernelspec": {
   "display_name": "Python 3 (ipykernel)",
   "language": "python",
   "name": "python3"
  },
  "language_info": {
   "codemirror_mode": {
    "name": "ipython",
    "version": 3
   },
   "file_extension": ".py",
   "mimetype": "text/x-python",
   "name": "python",
   "nbconvert_exporter": "python",
   "pygments_lexer": "ipython3",
   "version": "3.7.11"
  }
 },
 "nbformat": 4,
 "nbformat_minor": 5
}
